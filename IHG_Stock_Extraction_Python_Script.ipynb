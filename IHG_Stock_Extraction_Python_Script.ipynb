{
 "cells": [
  {
   "cell_type": "code",
   "execution_count": null,
   "id": "cfac6953-75e6-49d3-a7b4-c8393081028b",
   "metadata": {},
   "outputs": [],
   "source": [
    "import requests\n",
    "import pandas as pd\n",
    "from bs4 import BeautifulSoup\n",
    "\n",
    "def scrape_stock_data(ticker, start_date, end_date):\n",
    "    url = f\"https://finance.yahoo.com/quote/{ticker}/history\"\n",
    "    headers = {\"User-Agent\": \"Mozilla/5.0\"}\n",
    "    \n",
    "    response = requests.get(url, headers=headers)\n",
    "    soup = BeautifulSoup(response.text, \"html.parser\")\n",
    "    \n",
    "    # Find table with historical data\n",
    "    table = soup.find(\"table\", {\"data-test\": \"historical-prices\"})\n",
    "    rows = table.find_all(\"tr\")\n",
    "\n",
    "    data = []\n",
    "    for row in rows[1:]:\n",
    "        cols = row.find_all(\"td\")\n",
    "        if len(cols) < 6:\n",
    "            continue\n",
    "        date = cols[0].text\n",
    "        close_price = cols[4].text\n",
    "        data.append([date, close_price])\n",
    "\n",
    "    df = pd.DataFrame(data, columns=[\"Date\", \"Close\"])\n",
    "    df[\"Date\"] = pd.to_datetime(df[\"Date\"])\n",
    "    \n",
    "    # Filter by date range\n",
    "    mask = (df[\"Date\"] >= start_date) & (df[\"Date\"] <= end_date)\n",
    "    return df[mask]\n",
    "\n",
    "# Example Usage\n",
    "ticker = \"AAPL\"\n",
    "start_date = \"2023-01-01\"\n",
    "end_date = \"2023-12-31\"\n",
    "\n",
    "closing_prices = scrape_stock_data(ticker, start_date, end_date)\n",
    "print(closing_prices)\n"
   ]
  },
  {
   "cell_type": "code",
   "execution_count": 1,
   "id": "90631191-c329-412c-95b1-210482587ae2",
   "metadata": {},
   "outputs": [
    {
     "name": "stdout",
     "output_type": "stream",
     "text": [
      "                                Close\n",
      "Date                                 \n",
      "2023-01-03 00:00:00-05:00  123.632530\n",
      "2023-01-04 00:00:00-05:00  124.907707\n",
      "2023-01-05 00:00:00-05:00  123.583099\n",
      "2023-01-06 00:00:00-05:00  128.130203\n",
      "2023-01-09 00:00:00-05:00  128.654160\n",
      "...                               ...\n",
      "2023-12-22 00:00:00-05:00  192.444595\n",
      "2023-12-26 00:00:00-05:00  191.897873\n",
      "2023-12-27 00:00:00-05:00  191.997253\n",
      "2023-12-28 00:00:00-05:00  192.424698\n",
      "2023-12-29 00:00:00-05:00  191.380981\n",
      "\n",
      "[250 rows x 1 columns]\n"
     ]
    }
   ],
   "source": [
    "import yfinance as yf\n",
    "import pandas as pd\n",
    "\n",
    "def get_stock_data(ticker, start_date, end_date):\n",
    "    \"\"\"\n",
    "    Fetches historical closing prices for a given stock ticker\n",
    "    between the specified start and end dates.\n",
    "    \"\"\"\n",
    "    stock = yf.Ticker(ticker)\n",
    "    data = stock.history(start=start_date, end=end_date)\n",
    "    return data[['Close']]  # Extract only the closing price\n",
    "\n",
    "# Example Usage\n",
    "ticker = \"AAPL\"  # Apple stock symbol\n",
    "start_date = \"2023-01-01\"\n",
    "end_date = \"2023-12-31\"\n",
    "\n",
    "closing_prices = get_stock_data(ticker, start_date, end_date)\n",
    "print(closing_prices)\n"
   ]
  },
  {
   "cell_type": "code",
   "execution_count": 3,
   "id": "79edbaa2-418f-41e1-be6f-db9f7ed51aba",
   "metadata": {},
   "outputs": [
    {
     "name": "stdout",
     "output_type": "stream",
     "text": [
      "YF.download() has changed argument auto_adjust default to True\n"
     ]
    },
    {
     "name": "stderr",
     "output_type": "stream",
     "text": [
      "[*********************100%***********************]  3 of 3 completed"
     ]
    },
    {
     "name": "stdout",
     "output_type": "stream",
     "text": [
      "Ticker           GOOGL        MSFT        ORCL\n",
      "Date                                          \n",
      "2023-01-03   88.798103  235.711716   81.271133\n",
      "2023-01-04   87.761856  225.400940   82.008911\n",
      "2023-01-05   85.888649  218.720551   81.843872\n",
      "2023-01-06   87.024521  221.298248   83.154381\n",
      "2023-01-09   87.702065  223.452896   84.206718\n",
      "...                ...         ...         ...\n",
      "2023-12-22  140.978943  371.799713  104.659737\n",
      "2023-12-26  141.008835  371.879120  104.649879\n",
      "2023-12-27  139.862976  371.293518  104.403503\n",
      "2023-12-28  139.723495  372.494507  104.709007\n",
      "2023-12-29  139.185440  373.248840  103.900902\n",
      "\n",
      "[250 rows x 3 columns]\n"
     ]
    },
    {
     "name": "stderr",
     "output_type": "stream",
     "text": [
      "\n"
     ]
    }
   ],
   "source": [
    "import yfinance as yf\n",
    "import pandas as pd\n",
    "\n",
    "def get_multiple_stocks_data(tickers, start_date, end_date):\n",
    "    \"\"\"\n",
    "    Fetches historical closing prices for multiple stock tickers\n",
    "    between the specified start and end dates.\n",
    "    \"\"\"\n",
    "    data = yf.download(tickers, start=start_date, end=end_date)['Close']\n",
    "    return data  # Extract only the closing price\n",
    "\n",
    "# Example Usage\n",
    "tickers = [\"ORCL\", \"MSFT\", \"GOOGL\"]  # List of stock symbols\n",
    "start_date = \"2023-01-01\"\n",
    "end_date = \"2023-12-31\"\n",
    "\n",
    "closing_prices = get_multiple_stocks_data(tickers, start_date, end_date)\n",
    "print(closing_prices)\n"
   ]
  },
  {
   "cell_type": "code",
   "execution_count": 11,
   "id": "ca15d000-b3a2-4ba3-809c-0b9af8c7dd02",
   "metadata": {},
   "outputs": [
    {
     "name": "stderr",
     "output_type": "stream",
     "text": [
      "[*********************100%***********************]  2 of 2 completed\n"
     ]
    }
   ],
   "source": [
    "import pandas as pd\n",
    "import yfinance as yf\n",
    "\n",
    "# Specify stock ticker and date range\n",
    "stock_ticker = \"ORCL, MSFT\" \n",
    "start_date = \"2024-01-01\"\n",
    "end_date = \"2025-02-15\"\n",
    "\n",
    "# Download data using yfinance\n",
    "stock_data = yf.download(stock_ticker, start=start_date, end=end_date)\n",
    "\n",
    "# Save data to CSV\n",
    "\n"
   ]
  },
  {
   "cell_type": "code",
   "execution_count": 19,
   "id": "cc594bb2-cdd5-4575-9f71-47959276899f",
   "metadata": {},
   "outputs": [
    {
     "name": "stderr",
     "output_type": "stream",
     "text": [
      "[*********************100%***********************]  3 of 3 completed"
     ]
    },
    {
     "name": "stdout",
     "output_type": "stream",
     "text": [
      "Ticker           GOOGL        MSFT        ORCL\n",
      "Date                                          \n",
      "2023-01-03   88.798103  235.711716   81.271133\n",
      "2023-01-04   87.761856  225.400940   82.008911\n",
      "2023-01-05   85.888649  218.720551   81.843872\n",
      "2023-01-06   87.024521  221.298248   83.154381\n",
      "2023-01-09   87.702065  223.452896   84.206718\n",
      "...                ...         ...         ...\n",
      "2023-12-22  140.978943  371.799713  104.659737\n",
      "2023-12-26  141.008835  371.879120  104.649879\n",
      "2023-12-27  139.862976  371.293518  104.403503\n",
      "2023-12-28  139.723495  372.494507  104.709007\n",
      "2023-12-29  139.185440  373.248840  103.900902\n",
      "\n",
      "[250 rows x 3 columns]\n"
     ]
    },
    {
     "name": "stderr",
     "output_type": "stream",
     "text": [
      "\n"
     ]
    }
   ],
   "source": [
    "import yfinance as yf\n",
    "import pandas as pd\n",
    "\n",
    "def get_multiple_stocks_data(tickers, start_date, end_date):\n",
    "    \"\"\"\n",
    "    Fetches historical closing prices for multiple stock tickers\n",
    "    between the specified start and end dates.\n",
    "    \"\"\"\n",
    "    stock_data = yf.download(tickers, start=start_date, end=end_date)['Close']\n",
    "    return stock_data  # Extract only the closing price\n",
    "\n",
    "stock_data.to_csv(f\"{tickers}_prices.csv\") \n",
    "\n",
    "# Example Usage\n",
    "tickers = [\"ORCL\", \"MSFT\", \"GOOGL\"]  # List of stock symbols\n",
    "start_date = \"2023-01-01\"\n",
    "end_date = \"2023-12-31\"\n",
    "\n",
    "closing_prices = get_multiple_stocks_data(tickers, start_date, end_date)\n",
    "print(closing_prices)\n"
   ]
  },
  {
   "cell_type": "code",
   "execution_count": null,
   "id": "547b540a-15ad-4c35-b732-6a2539ac606b",
   "metadata": {},
   "outputs": [],
   "source": []
  }
 ],
 "metadata": {
  "kernelspec": {
   "display_name": "Python [conda env:base] *",
   "language": "python",
   "name": "conda-base-py"
  },
  "language_info": {
   "codemirror_mode": {
    "name": "ipython",
    "version": 3
   },
   "file_extension": ".py",
   "mimetype": "text/x-python",
   "name": "python",
   "nbconvert_exporter": "python",
   "pygments_lexer": "ipython3",
   "version": "3.12.7"
  }
 },
 "nbformat": 4,
 "nbformat_minor": 5
}
