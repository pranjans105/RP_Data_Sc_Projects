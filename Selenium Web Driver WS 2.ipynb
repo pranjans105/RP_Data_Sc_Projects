{
 "cells": [
  {
   "cell_type": "code",
   "execution_count": 5,
   "metadata": {},
   "outputs": [],
   "source": [
    "import requests\n",
    "from bs4 import BeautifulSoup\n",
    "from selenium import webdriver\n",
    "import pandas as pd\n",
    "import csv\n",
    "\n",
    "w = []\n",
    "\n",
    "url = \"https://dir.indiamart.com/indianexporters/m_prmach.html\"\n",
    "driver = webdriver.Chrome()\n",
    "driver.get(url)\n",
    "\n",
    "soup = BeautifulSoup(driver.page_source,'html.parser')\n",
    "\n",
    "for web in soup.find_all('li',class_= 'lst lst_cl mft2 img llc ws mft'):\n",
    "    \n",
    "    link3 = web.find('a')\n",
    "    print(link3['href'])"
   ]
  },
  {
   "cell_type": "code",
   "execution_count": 24,
   "metadata": {},
   "outputs": [
    {
     "name": "stdout",
     "output_type": "stream",
     "text": [
      "NAME: SONY ZV-E10L Mirrorless Camera Body with 1650 mm Power Zoom Lens Vlog Camera\n",
      "Rating:  4.5216 Ratings & 31 Reviews\n",
      "Price # :  ₹61,490\n",
      "NAME: SONY Alpha ILCE-6400L APS-C Mirrorless Camera with 16-50 mm Power Zoom Lens Featuring Eye AF and 4K mo...\n",
      "Rating:  4.6495 Ratings & 71 Reviews\n",
      "Price # :  ₹79,990\n",
      "NAME: SONY Alpha ILCE-7M3K Full Frame Mirrorless Camera with 28-70 mm Zoom LensFeaturing Eye AF and 4K movie...\n",
      "Rating:  4.5290 Ratings & 44 Reviews\n",
      "Price # :  ₹1,60,081\n",
      "NAME: SONY Alpha ILCE-6100L APS-C Mirrorless Camera with 16-50 mm Power Zoom Lens Featuring Eye AF and 4K mo...\n",
      "Rating:  4.6237 Ratings & 42 Reviews\n",
      "Price # :  ₹66,990\n",
      "NAME: SONY Alpha ILCE-6400 APS-C Mirrorless Camera Body Only Featuring Eye AF and 4K movie recording\n",
      "Rating:  4.6495 Ratings & 71 Reviews\n",
      "Price # :  ₹72,990\n",
      "NAME: SONY ZV-E10 Mirrorless Camera Body Only Vlog Camera\n",
      "Rating:  4.5216 Ratings & 31 Reviews\n",
      "Price # :  ₹52,599\n",
      "NAME: SONY Alpha ILCE-6100 APS-C Mirrorless Camera Body Only Featuring Eye AF and 4K movie recording\n",
      "Rating:  4.6237 Ratings & 42 Reviews\n",
      "Price # :  ₹56,990\n",
      "NAME: SONY Alpha ILCE-7C Full Frame Mirrorless Camera Body Featuring Eye AF and 4K movie recording\n",
      "Rating:  4.655 Ratings & 10 Reviews\n",
      "Price # :  ₹1,47,790\n",
      "NAME: SONY Alpha ILCE-6400M APS-C Mirrorless Camera with 18-135 mm Zoom Lens Featuring Eye AF and 4K movie r...\n",
      "Rating:  4.7179 Ratings & 17 Reviews\n",
      "Price # :  ₹1,05,990\n",
      "NAME: SONY Alpha ILCE-7M3 Full Frame Mirrorless Camera Body Only Featuring Eye AF and 4K movie recording\n",
      "Rating:  4.5290 Ratings & 44 Reviews\n",
      "Price # :  ₹1,45,990\n",
      "NAME: SONY Alpha ILCE-6400L Mirrorless Camera Body with 16-50mm Power Zoom Lens\n",
      "Rating:  4.56 Ratings & 2 Reviews\n",
      "Price # :  ₹1,27,559\n"
     ]
    }
   ],
   "source": [
    "import requests\n",
    "from bs4 import BeautifulSoup\n",
    "from selenium import webdriver\n",
    "\n",
    "\n",
    "url = \"https://www.flipkart.com/search?q=Sony%20242%20MPCamera%20Black&otracker=search&otracker1=search&marketplace=FLIPKART&as-show=on&as=off\"\n",
    "driver = webdriver.Chrome()\n",
    "driver.get(url)\n",
    "\n",
    "soup = BeautifulSoup(driver.page_source,'html.parser')\n",
    "\n",
    "for web in soup.find_all('div',class_= '_3pLy-c row'):\n",
    "    Name = web.find('div', class_= '_4rR01T')\n",
    "    print('NAME: '+ Name.text)\n",
    "    \n",
    "    Rat = web.find('div', class_= 'gUuXy-')\n",
    "    print('Rating: ', Rat.text)\n",
    "    \n",
    "    Pri = web.find('div', class_= '_30jeq3 _1_WHN1')\n",
    "    print('Price # : ', Pri.text)\n",
    "        "
   ]
  },
  {
   "cell_type": "code",
   "execution_count": 25,
   "metadata": {},
   "outputs": [
    {
     "data": {
      "text/plain": [
       "[('SONY Alpha ILCE-6400L Mirrorless Camera Body with 16-50mm Power Zoom Lens',\n",
       "  <span class=\"_1lRcqv\" id=\"productRating_LSTDLLFSDGJMZGCFFRSYA8AEA_DLLFSDGJMZGCFFRS_\"><div class=\"_3LWZlK\">4.5<img class=\"_1wB99o\" src=\"data:image/svg+xml;base64,PHN2ZyB4bWxucz0iaHR0cDovL3d3dy53My5vcmcvMjAwMC9zdmciIHdpZHRoPSIxMyIgaGVpZ2h0PSIxMiI+PHBhdGggZmlsbD0iI0ZGRiIgZD0iTTYuNSA5LjQzOWwtMy42NzQgMi4yMy45NC00LjI2LTMuMjEtMi44ODMgNC4yNTQtLjQwNEw2LjUuMTEybDEuNjkgNC4wMSA0LjI1NC40MDQtMy4yMSAyLjg4Mi45NCA0LjI2eiIvPjwvc3ZnPg==\"/></div></span>,\n",
       "  '₹1,27,559')]"
      ]
     },
     "execution_count": 25,
     "metadata": {},
     "output_type": "execute_result"
    }
   ],
   "source": [
    "Data = list(zip(Name,Rat,Pri))\n",
    "Data"
   ]
  },
  {
   "cell_type": "code",
   "execution_count": 26,
   "metadata": {},
   "outputs": [
    {
     "data": {
      "text/html": [
       "<div>\n",
       "<style scoped>\n",
       "    .dataframe tbody tr th:only-of-type {\n",
       "        vertical-align: middle;\n",
       "    }\n",
       "\n",
       "    .dataframe tbody tr th {\n",
       "        vertical-align: top;\n",
       "    }\n",
       "\n",
       "    .dataframe thead th {\n",
       "        text-align: right;\n",
       "    }\n",
       "</style>\n",
       "<table border=\"1\" class=\"dataframe\">\n",
       "  <thead>\n",
       "    <tr style=\"text-align: right;\">\n",
       "      <th></th>\n",
       "      <th>Product Name</th>\n",
       "      <th>Review and Ratings</th>\n",
       "      <th>Pricing</th>\n",
       "    </tr>\n",
       "  </thead>\n",
       "  <tbody>\n",
       "    <tr>\n",
       "      <th>0</th>\n",
       "      <td>SONY Alpha ILCE-6400L Mirrorless Camera Body w...</td>\n",
       "      <td>[[4.5, []]]</td>\n",
       "      <td>₹1,27,559</td>\n",
       "    </tr>\n",
       "  </tbody>\n",
       "</table>\n",
       "</div>"
      ],
      "text/plain": [
       "                                        Product Name Review and Ratings  \\\n",
       "0  SONY Alpha ILCE-6400L Mirrorless Camera Body w...        [[4.5, []]]   \n",
       "\n",
       "     Pricing  \n",
       "0  ₹1,27,559  "
      ]
     },
     "execution_count": 26,
     "metadata": {},
     "output_type": "execute_result"
    }
   ],
   "source": [
    "df = pd.DataFrame(Data,columns = ['Product Name', 'Review and Ratings', 'Pricing'])\n",
    "df"
   ]
  },
  {
   "cell_type": "code",
   "execution_count": 1,
   "metadata": {},
   "outputs": [],
   "source": [
    "import requests\n",
    "from bs4 import BeautifulSoup\n",
    "from selenium import webdriver\n",
    "\n",
    "url = \"https://www.flipkart.com/search?q=Sony%20242%20MPCamera%20Black&otracker=search&otracker1=search&marketplace=FLIPKART&as-show=on&as=off\"\n",
    "driver = webdriver.Chrome()\n",
    "driver.get(url)\n",
    "\n",
    "soup = BeautifulSoup(driver.page_source,'html.parser')\n",
    "\n",
    "for web in soup.find_all('div',class_= '_3pLy-c row'):\n",
    "    Name = web.find_all('div', class_= '_4rR01T')\n",
    "    \n",
    "    Rat = web.find_all('div', class_= 'gUuXy-')\n",
    "    \n",
    "    Pri = web.find_all('div', class_= '_30jeq3 _1_WHN1')\n",
    "    \n",
    "na = []\n",
    "ra = []\n",
    "pr = []\n",
    "\n",
    "for i in Name:\n",
    "    na.append(i)\n",
    "for i in Rat:\n",
    "    ra.append(i)\n",
    "for i in Pri:\n",
    "    pr.append(i)\n",
    "    "
   ]
  },
  {
   "cell_type": "code",
   "execution_count": 6,
   "metadata": {},
   "outputs": [
    {
     "data": {
      "text/plain": [
       "[(<div class=\"_4rR01T\">SONY Alpha ILCE-6400L Mirrorless Camera Body with 16-50mm Power Zoom Lens</div>,\n",
       "  <div class=\"gUuXy-\"><span class=\"_1lRcqv\" id=\"productRating_LSTDLLFSDGJMZGCFFRSYA8AEA_DLLFSDGJMZGCFFRS_\"><div class=\"_3LWZlK\">4.5<img class=\"_1wB99o\" src=\"data:image/svg+xml;base64,PHN2ZyB4bWxucz0iaHR0cDovL3d3dy53My5vcmcvMjAwMC9zdmciIHdpZHRoPSIxMyIgaGVpZ2h0PSIxMiI+PHBhdGggZmlsbD0iI0ZGRiIgZD0iTTYuNSA5LjQzOWwtMy42NzQgMi4yMy45NC00LjI2LTMuMjEtMi44ODMgNC4yNTQtLjQwNEw2LjUuMTEybDEuNjkgNC4wMSA0LjI1NC40MDQtMy4yMSAyLjg4Mi45NCA0LjI2eiIvPjwvc3ZnPg==\"/></div></span><span class=\"_2_R_DZ\"><span><span>6 Ratings </span><span class=\"_13vcmD\">&amp;</span><span> 2 Reviews</span></span></span></div>,\n",
       "  <div class=\"_30jeq3 _1_WHN1\">₹1,27,559</div>)]"
      ]
     },
     "execution_count": 6,
     "metadata": {},
     "output_type": "execute_result"
    }
   ],
   "source": [
    "Data = {'Name': na, 'Rating': ra, 'Price': pr}\n",
    "Data = list(zip(na,ra,pr))\n",
    "Data"
   ]
  },
  {
   "cell_type": "code",
   "execution_count": 7,
   "metadata": {},
   "outputs": [
    {
     "data": {
      "text/html": [
       "<div>\n",
       "<style scoped>\n",
       "    .dataframe tbody tr th:only-of-type {\n",
       "        vertical-align: middle;\n",
       "    }\n",
       "\n",
       "    .dataframe tbody tr th {\n",
       "        vertical-align: top;\n",
       "    }\n",
       "\n",
       "    .dataframe thead th {\n",
       "        text-align: right;\n",
       "    }\n",
       "</style>\n",
       "<table border=\"1\" class=\"dataframe\">\n",
       "  <thead>\n",
       "    <tr style=\"text-align: right;\">\n",
       "      <th></th>\n",
       "      <th>Product Name</th>\n",
       "      <th>Review and Ratings</th>\n",
       "      <th>Pricing</th>\n",
       "    </tr>\n",
       "  </thead>\n",
       "  <tbody>\n",
       "    <tr>\n",
       "      <th>0</th>\n",
       "      <td>[SONY Alpha ILCE-6400L Mirrorless Camera Body ...</td>\n",
       "      <td>[[[4.5, &lt;img class=\"_1wB99o\" src=\"data:image/s...</td>\n",
       "      <td>[₹1,27,559]</td>\n",
       "    </tr>\n",
       "  </tbody>\n",
       "</table>\n",
       "</div>"
      ],
      "text/plain": [
       "                                        Product Name  \\\n",
       "0  [SONY Alpha ILCE-6400L Mirrorless Camera Body ...   \n",
       "\n",
       "                                  Review and Ratings      Pricing  \n",
       "0  [[[4.5, <img class=\"_1wB99o\" src=\"data:image/s...  [₹1,27,559]  "
      ]
     },
     "execution_count": 7,
     "metadata": {},
     "output_type": "execute_result"
    }
   ],
   "source": [
    "df = pd.DataFrame(Data,columns = ['Product Name', 'Review and Ratings', 'Pricing'])\n",
    "df"
   ]
  },
  {
   "cell_type": "code",
   "execution_count": null,
   "metadata": {},
   "outputs": [],
   "source": []
  }
 ],
 "metadata": {
  "kernelspec": {
   "display_name": "Python 3",
   "language": "python",
   "name": "python3"
  },
  "language_info": {
   "codemirror_mode": {
    "name": "ipython",
    "version": 3
   },
   "file_extension": ".py",
   "mimetype": "text/x-python",
   "name": "python",
   "nbconvert_exporter": "python",
   "pygments_lexer": "ipython3",
   "version": "3.8.5"
  }
 },
 "nbformat": 4,
 "nbformat_minor": 4
}
